{
 "cells": [
  {
   "cell_type": "code",
   "execution_count": null,
   "metadata": {},
   "outputs": [],
   "source": [
    "import pandas as pd\n",
    "import seaborn as sns\n",
    "import functools\n",
    "import ipywidgets as widgets"
   ]
  },
  {
   "cell_type": "code",
   "execution_count": null,
   "metadata": {},
   "outputs": [],
   "source": [
    "iris = sns.load_dataset('iris')"
   ]
  },
  {
   "cell_type": "code",
   "execution_count": null,
   "metadata": {},
   "outputs": [],
   "source": [
    "def draw(\n",
    "    attribute,\n",
    "    plot,\n",
    "):\n",
    "    args = {\n",
    "        'data': iris,\n",
    "        'y': attribute,\n",
    "        'x': 'species'\n",
    "    }\n",
    "    if plot == 'Boxplot': sns.boxplot(**args)\n",
    "    elif plot == 'Pointplot': sns.pointplot(**args)\n",
    "    elif plot == 'Stripplot': sns.stripplot(**args)"
   ]
  },
  {
   "cell_type": "code",
   "execution_count": null,
   "metadata": {},
   "outputs": [],
   "source": [
    "widgets.interact(\n",
    "    draw,\n",
    "    attribute=widgets.Dropdown(\n",
    "        options=[\n",
    "            col for col in\n",
    "            iris.columns if col != 'species'\n",
    "        ],\n",
    "        description='Attribute',\n",
    "    ),\n",
    "    plot=widgets.ToggleButtons(\n",
    "        options=['Boxplot', 'Pointplot', 'Stripplot'],\n",
    "        description='Plot',\n",
    "    ),\n",
    ")"
   ]
  }
 ],
 "metadata": {
  "kernelspec": {
   "display_name": "Python [conda env:nb-iris-dashboard]",
   "language": "python",
   "name": "conda-env-nb-iris-dashboard-py"
  },
  "language_info": {
   "codemirror_mode": {
    "name": "ipython",
    "version": 3
   },
   "file_extension": ".py",
   "mimetype": "text/x-python",
   "name": "python",
   "nbconvert_exporter": "python",
   "pygments_lexer": "ipython3",
   "version": "3.7.3"
  }
 },
 "nbformat": 4,
 "nbformat_minor": 2
}
